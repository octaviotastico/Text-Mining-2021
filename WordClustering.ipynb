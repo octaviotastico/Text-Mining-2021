{
  "nbformat": 4,
  "nbformat_minor": 0,
  "metadata": {
    "colab": {
      "name": "WordClustering.ipynb",
      "provenance": [],
      "authorship_tag": "ABX9TyPzhtxuYZY0eMwPsvxTEGD3",
      "include_colab_link": true
    },
    "kernelspec": {
      "name": "python3",
      "display_name": "Python 3"
    },
    "language_info": {
      "name": "python"
    }
  },
  "cells": [
    {
      "cell_type": "markdown",
      "metadata": {
        "id": "view-in-github",
        "colab_type": "text"
      },
      "source": [
        "<a href=\"https://colab.research.google.com/github/octaviotastico/Text-Mining-2021/blob/main/WordClustering.ipynb\" target=\"_parent\"><img src=\"https://colab.research.google.com/assets/colab-badge.svg\" alt=\"Open In Colab\"/></a>"
      ]
    },
    {
      "cell_type": "markdown",
      "metadata": {
        "id": "xpljds90Hvrl"
      },
      "source": [
        "Antes que nada, hay que agregar algunas dependencias sino colab se queja."
      ]
    },
    {
      "cell_type": "code",
      "metadata": {
        "colab": {
          "base_uri": "https://localhost:8080/",
          "height": 1000
        },
        "id": "MNRH-XNDHnax",
        "outputId": "0ee08ad7-fd07-41ce-ddba-1e6b126b36bc"
      },
      "source": [
        "!pip install -U setuptools wheel\n",
        "!pip install -U spacy==3.1.2\n",
        "!pip install -U pip setuptools wheel\n",
        "!python -m spacy download es_core_news_md"
      ],
      "execution_count": 9,
      "outputs": [
        {
          "output_type": "stream",
          "name": "stdout",
          "text": [
            "Requirement already satisfied: setuptools in /usr/local/lib/python3.7/dist-packages (57.4.0)\n",
            "Collecting setuptools\n",
            "  Downloading setuptools-58.1.0-py3-none-any.whl (816 kB)\n",
            "\u001b[K     |████████████████████████████████| 816 kB 7.0 MB/s \n",
            "\u001b[?25hRequirement already satisfied: wheel in /usr/local/lib/python3.7/dist-packages (0.37.0)\n",
            "Installing collected packages: setuptools\n",
            "  Attempting uninstall: setuptools\n",
            "    Found existing installation: setuptools 57.4.0\n",
            "    Uninstalling setuptools-57.4.0:\n",
            "      Successfully uninstalled setuptools-57.4.0\n",
            "\u001b[31mERROR: pip's dependency resolver does not currently take into account all the packages that are installed. This behaviour is the source of the following dependency conflicts.\n",
            "datascience 0.10.6 requires folium==0.2.1, but you have folium 0.8.3 which is incompatible.\u001b[0m\n",
            "Successfully installed setuptools-58.1.0\n"
          ]
        },
        {
          "output_type": "display_data",
          "data": {
            "application/vnd.colab-display-data+json": {
              "pip_warning": {
                "packages": [
                  "pkg_resources"
                ]
              }
            }
          },
          "metadata": {}
        },
        {
          "output_type": "stream",
          "name": "stdout",
          "text": [
            "Collecting spacy==3.1.2\n",
            "  Downloading spacy-3.1.2-cp37-cp37m-manylinux_2_17_x86_64.manylinux2014_x86_64.whl (5.8 MB)\n",
            "\u001b[K     |████████████████████████████████| 5.8 MB 10.4 MB/s \n",
            "\u001b[?25hRequirement already satisfied: jinja2 in /usr/local/lib/python3.7/dist-packages (from spacy==3.1.2) (2.11.3)\n",
            "Requirement already satisfied: cymem<2.1.0,>=2.0.2 in /usr/local/lib/python3.7/dist-packages (from spacy==3.1.2) (2.0.5)\n",
            "Requirement already satisfied: tqdm<5.0.0,>=4.38.0 in /usr/local/lib/python3.7/dist-packages (from spacy==3.1.2) (4.62.2)\n",
            "Requirement already satisfied: typing-extensions<4.0.0.0,>=3.7.4 in /usr/local/lib/python3.7/dist-packages (from spacy==3.1.2) (3.7.4.3)\n",
            "Collecting pydantic!=1.8,!=1.8.1,<1.9.0,>=1.7.4\n",
            "  Downloading pydantic-1.8.2-cp37-cp37m-manylinux2014_x86_64.whl (10.1 MB)\n",
            "\u001b[K     |████████████████████████████████| 10.1 MB 36.7 MB/s \n",
            "\u001b[?25hCollecting spacy-legacy<3.1.0,>=3.0.7\n",
            "  Downloading spacy_legacy-3.0.8-py2.py3-none-any.whl (14 kB)\n",
            "Requirement already satisfied: blis<0.8.0,>=0.4.0 in /usr/local/lib/python3.7/dist-packages (from spacy==3.1.2) (0.4.1)\n",
            "Requirement already satisfied: numpy>=1.15.0 in /usr/local/lib/python3.7/dist-packages (from spacy==3.1.2) (1.19.5)\n",
            "Requirement already satisfied: setuptools in /usr/local/lib/python3.7/dist-packages (from spacy==3.1.2) (58.1.0)\n",
            "Requirement already satisfied: wasabi<1.1.0,>=0.8.1 in /usr/local/lib/python3.7/dist-packages (from spacy==3.1.2) (0.8.2)\n",
            "Collecting thinc<8.1.0,>=8.0.8\n",
            "  Downloading thinc-8.0.10-cp37-cp37m-manylinux_2_17_x86_64.manylinux2014_x86_64.whl (623 kB)\n",
            "\u001b[K     |████████████████████████████████| 623 kB 74.5 MB/s \n",
            "\u001b[?25hRequirement already satisfied: requests<3.0.0,>=2.13.0 in /usr/local/lib/python3.7/dist-packages (from spacy==3.1.2) (2.23.0)\n",
            "Collecting pathy>=0.3.5\n",
            "  Downloading pathy-0.6.0-py3-none-any.whl (42 kB)\n",
            "\u001b[K     |████████████████████████████████| 42 kB 1.4 MB/s \n",
            "\u001b[?25hCollecting srsly<3.0.0,>=2.4.1\n",
            "  Downloading srsly-2.4.1-cp37-cp37m-manylinux2014_x86_64.whl (456 kB)\n",
            "\u001b[K     |████████████████████████████████| 456 kB 65.9 MB/s \n",
            "\u001b[?25hRequirement already satisfied: murmurhash<1.1.0,>=0.28.0 in /usr/local/lib/python3.7/dist-packages (from spacy==3.1.2) (1.0.5)\n",
            "Requirement already satisfied: preshed<3.1.0,>=3.0.2 in /usr/local/lib/python3.7/dist-packages (from spacy==3.1.2) (3.0.5)\n",
            "Collecting catalogue<2.1.0,>=2.0.4\n",
            "  Downloading catalogue-2.0.6-py3-none-any.whl (17 kB)\n",
            "Collecting typer<0.4.0,>=0.3.0\n",
            "  Downloading typer-0.3.2-py3-none-any.whl (21 kB)\n",
            "Requirement already satisfied: packaging>=20.0 in /usr/local/lib/python3.7/dist-packages (from spacy==3.1.2) (21.0)\n",
            "Requirement already satisfied: zipp>=0.5 in /usr/local/lib/python3.7/dist-packages (from catalogue<2.1.0,>=2.0.4->spacy==3.1.2) (3.5.0)\n",
            "Requirement already satisfied: pyparsing>=2.0.2 in /usr/local/lib/python3.7/dist-packages (from packaging>=20.0->spacy==3.1.2) (2.4.7)\n",
            "Requirement already satisfied: smart-open<6.0.0,>=5.0.0 in /usr/local/lib/python3.7/dist-packages (from pathy>=0.3.5->spacy==3.1.2) (5.2.1)\n",
            "Requirement already satisfied: urllib3!=1.25.0,!=1.25.1,<1.26,>=1.21.1 in /usr/local/lib/python3.7/dist-packages (from requests<3.0.0,>=2.13.0->spacy==3.1.2) (1.24.3)\n",
            "Requirement already satisfied: idna<3,>=2.5 in /usr/local/lib/python3.7/dist-packages (from requests<3.0.0,>=2.13.0->spacy==3.1.2) (2.10)\n",
            "Requirement already satisfied: chardet<4,>=3.0.2 in /usr/local/lib/python3.7/dist-packages (from requests<3.0.0,>=2.13.0->spacy==3.1.2) (3.0.4)\n",
            "Requirement already satisfied: certifi>=2017.4.17 in /usr/local/lib/python3.7/dist-packages (from requests<3.0.0,>=2.13.0->spacy==3.1.2) (2021.5.30)\n",
            "Requirement already satisfied: click<7.2.0,>=7.1.1 in /usr/local/lib/python3.7/dist-packages (from typer<0.4.0,>=0.3.0->spacy==3.1.2) (7.1.2)\n",
            "Requirement already satisfied: MarkupSafe>=0.23 in /usr/local/lib/python3.7/dist-packages (from jinja2->spacy==3.1.2) (2.0.1)\n",
            "Installing collected packages: catalogue, typer, srsly, pydantic, thinc, spacy-legacy, pathy, spacy\n",
            "  Attempting uninstall: catalogue\n",
            "    Found existing installation: catalogue 1.0.0\n",
            "    Uninstalling catalogue-1.0.0:\n",
            "      Successfully uninstalled catalogue-1.0.0\n",
            "  Attempting uninstall: srsly\n",
            "    Found existing installation: srsly 1.0.5\n",
            "    Uninstalling srsly-1.0.5:\n",
            "      Successfully uninstalled srsly-1.0.5\n",
            "  Attempting uninstall: thinc\n",
            "    Found existing installation: thinc 7.4.0\n",
            "    Uninstalling thinc-7.4.0:\n",
            "      Successfully uninstalled thinc-7.4.0\n",
            "  Attempting uninstall: spacy\n",
            "    Found existing installation: spacy 2.2.4\n",
            "    Uninstalling spacy-2.2.4:\n",
            "      Successfully uninstalled spacy-2.2.4\n",
            "Successfully installed catalogue-2.0.6 pathy-0.6.0 pydantic-1.8.2 spacy-3.1.2 spacy-legacy-3.0.8 srsly-2.4.1 thinc-8.0.10 typer-0.3.2\n"
          ]
        },
        {
          "output_type": "display_data",
          "data": {
            "application/vnd.colab-display-data+json": {
              "pip_warning": {
                "packages": [
                  "catalogue",
                  "spacy",
                  "srsly",
                  "thinc"
                ]
              }
            }
          },
          "metadata": {}
        },
        {
          "output_type": "stream",
          "name": "stdout",
          "text": [
            "Requirement already satisfied: pip in /usr/local/lib/python3.7/dist-packages (21.1.3)\n",
            "Collecting pip\n",
            "  Downloading pip-21.2.4-py3-none-any.whl (1.6 MB)\n",
            "\u001b[K     |████████████████████████████████| 1.6 MB 7.4 MB/s \n",
            "\u001b[?25hRequirement already satisfied: setuptools in /usr/local/lib/python3.7/dist-packages (58.1.0)\n",
            "Requirement already satisfied: wheel in /usr/local/lib/python3.7/dist-packages (0.37.0)\n",
            "Installing collected packages: pip\n",
            "  Attempting uninstall: pip\n",
            "    Found existing installation: pip 21.1.3\n",
            "    Uninstalling pip-21.1.3:\n",
            "      Successfully uninstalled pip-21.1.3\n",
            "Successfully installed pip-21.2.4\n",
            "Collecting es-core-news-md==3.1.0\n",
            "  Downloading https://github.com/explosion/spacy-models/releases/download/es_core_news_md-3.1.0/es_core_news_md-3.1.0-py3-none-any.whl (42.7 MB)\n",
            "\u001b[K     |████████████████████████████████| 42.7 MB 47 kB/s \n",
            "\u001b[?25hRequirement already satisfied: spacy<3.2.0,>=3.1.0 in /usr/local/lib/python3.7/dist-packages (from es-core-news-md==3.1.0) (3.1.2)\n",
            "Requirement already satisfied: srsly<3.0.0,>=2.4.1 in /usr/local/lib/python3.7/dist-packages (from spacy<3.2.0,>=3.1.0->es-core-news-md==3.1.0) (2.4.1)\n",
            "Requirement already satisfied: thinc<8.1.0,>=8.0.8 in /usr/local/lib/python3.7/dist-packages (from spacy<3.2.0,>=3.1.0->es-core-news-md==3.1.0) (8.0.10)\n",
            "Requirement already satisfied: cymem<2.1.0,>=2.0.2 in /usr/local/lib/python3.7/dist-packages (from spacy<3.2.0,>=3.1.0->es-core-news-md==3.1.0) (2.0.5)\n",
            "Requirement already satisfied: jinja2 in /usr/local/lib/python3.7/dist-packages (from spacy<3.2.0,>=3.1.0->es-core-news-md==3.1.0) (2.11.3)\n",
            "Requirement already satisfied: packaging>=20.0 in /usr/local/lib/python3.7/dist-packages (from spacy<3.2.0,>=3.1.0->es-core-news-md==3.1.0) (21.0)\n",
            "Requirement already satisfied: spacy-legacy<3.1.0,>=3.0.7 in /usr/local/lib/python3.7/dist-packages (from spacy<3.2.0,>=3.1.0->es-core-news-md==3.1.0) (3.0.8)\n",
            "Requirement already satisfied: tqdm<5.0.0,>=4.38.0 in /usr/local/lib/python3.7/dist-packages (from spacy<3.2.0,>=3.1.0->es-core-news-md==3.1.0) (4.62.2)\n",
            "Requirement already satisfied: setuptools in /usr/local/lib/python3.7/dist-packages (from spacy<3.2.0,>=3.1.0->es-core-news-md==3.1.0) (58.1.0)\n",
            "Requirement already satisfied: requests<3.0.0,>=2.13.0 in /usr/local/lib/python3.7/dist-packages (from spacy<3.2.0,>=3.1.0->es-core-news-md==3.1.0) (2.23.0)\n",
            "Requirement already satisfied: pathy>=0.3.5 in /usr/local/lib/python3.7/dist-packages (from spacy<3.2.0,>=3.1.0->es-core-news-md==3.1.0) (0.6.0)\n",
            "Requirement already satisfied: wasabi<1.1.0,>=0.8.1 in /usr/local/lib/python3.7/dist-packages (from spacy<3.2.0,>=3.1.0->es-core-news-md==3.1.0) (0.8.2)\n",
            "Requirement already satisfied: pydantic!=1.8,!=1.8.1,<1.9.0,>=1.7.4 in /usr/local/lib/python3.7/dist-packages (from spacy<3.2.0,>=3.1.0->es-core-news-md==3.1.0) (1.8.2)\n",
            "Requirement already satisfied: blis<0.8.0,>=0.4.0 in /usr/local/lib/python3.7/dist-packages (from spacy<3.2.0,>=3.1.0->es-core-news-md==3.1.0) (0.4.1)\n",
            "Requirement already satisfied: catalogue<2.1.0,>=2.0.4 in /usr/local/lib/python3.7/dist-packages (from spacy<3.2.0,>=3.1.0->es-core-news-md==3.1.0) (2.0.6)\n",
            "Requirement already satisfied: typer<0.4.0,>=0.3.0 in /usr/local/lib/python3.7/dist-packages (from spacy<3.2.0,>=3.1.0->es-core-news-md==3.1.0) (0.3.2)\n",
            "Requirement already satisfied: typing-extensions<4.0.0.0,>=3.7.4 in /usr/local/lib/python3.7/dist-packages (from spacy<3.2.0,>=3.1.0->es-core-news-md==3.1.0) (3.7.4.3)\n",
            "Requirement already satisfied: murmurhash<1.1.0,>=0.28.0 in /usr/local/lib/python3.7/dist-packages (from spacy<3.2.0,>=3.1.0->es-core-news-md==3.1.0) (1.0.5)\n",
            "Requirement already satisfied: preshed<3.1.0,>=3.0.2 in /usr/local/lib/python3.7/dist-packages (from spacy<3.2.0,>=3.1.0->es-core-news-md==3.1.0) (3.0.5)\n",
            "Requirement already satisfied: numpy>=1.15.0 in /usr/local/lib/python3.7/dist-packages (from spacy<3.2.0,>=3.1.0->es-core-news-md==3.1.0) (1.19.5)\n",
            "Requirement already satisfied: zipp>=0.5 in /usr/local/lib/python3.7/dist-packages (from catalogue<2.1.0,>=2.0.4->spacy<3.2.0,>=3.1.0->es-core-news-md==3.1.0) (3.5.0)\n",
            "Requirement already satisfied: pyparsing>=2.0.2 in /usr/local/lib/python3.7/dist-packages (from packaging>=20.0->spacy<3.2.0,>=3.1.0->es-core-news-md==3.1.0) (2.4.7)\n",
            "Requirement already satisfied: smart-open<6.0.0,>=5.0.0 in /usr/local/lib/python3.7/dist-packages (from pathy>=0.3.5->spacy<3.2.0,>=3.1.0->es-core-news-md==3.1.0) (5.2.1)\n",
            "Requirement already satisfied: chardet<4,>=3.0.2 in /usr/local/lib/python3.7/dist-packages (from requests<3.0.0,>=2.13.0->spacy<3.2.0,>=3.1.0->es-core-news-md==3.1.0) (3.0.4)\n",
            "Requirement already satisfied: idna<3,>=2.5 in /usr/local/lib/python3.7/dist-packages (from requests<3.0.0,>=2.13.0->spacy<3.2.0,>=3.1.0->es-core-news-md==3.1.0) (2.10)\n",
            "Requirement already satisfied: urllib3!=1.25.0,!=1.25.1,<1.26,>=1.21.1 in /usr/local/lib/python3.7/dist-packages (from requests<3.0.0,>=2.13.0->spacy<3.2.0,>=3.1.0->es-core-news-md==3.1.0) (1.24.3)\n",
            "Requirement already satisfied: certifi>=2017.4.17 in /usr/local/lib/python3.7/dist-packages (from requests<3.0.0,>=2.13.0->spacy<3.2.0,>=3.1.0->es-core-news-md==3.1.0) (2021.5.30)\n",
            "Requirement already satisfied: click<7.2.0,>=7.1.1 in /usr/local/lib/python3.7/dist-packages (from typer<0.4.0,>=0.3.0->spacy<3.2.0,>=3.1.0->es-core-news-md==3.1.0) (7.1.2)\n",
            "Requirement already satisfied: MarkupSafe>=0.23 in /usr/local/lib/python3.7/dist-packages (from jinja2->spacy<3.2.0,>=3.1.0->es-core-news-md==3.1.0) (2.0.1)\n",
            "Installing collected packages: es-core-news-md\n",
            "Successfully installed es-core-news-md-3.1.0\n",
            "\u001b[33mWARNING: Running pip as the 'root' user can result in broken permissions and conflicting behaviour with the system package manager. It is recommended to use a virtual environment instead: https://pip.pypa.io/warnings/venv\u001b[0m\n",
            "\u001b[38;5;2m✔ Download and installation successful\u001b[0m\n",
            "You can now load the package via spacy.load('es_core_news_md')\n"
          ]
        }
      ]
    },
    {
      "cell_type": "code",
      "metadata": {
        "id": "rmib9qkK-aaw"
      },
      "source": [
        "import matplotlib.pyplot as plt\n",
        "import pandas as pd\n",
        "import numpy as np\n",
        "import spacy\n",
        "import sklearn.manifold\n",
        "from collections import Counter\n",
        "from nltk.cluster import kmeans, cosine_distance\n",
        "from sklearn.feature_extraction import DictVectorizer"
      ],
      "execution_count": 69,
      "outputs": []
    },
    {
      "cell_type": "markdown",
      "metadata": {
        "id": "m11eQRGL_GsT"
      },
      "source": [
        "Luego de los imports, creamos las constantes que vamos a necesitar.\n",
        "\n",
        "Estas variables pueden ser modificadas para ver distintos resultados.\n",
        "\n",
        "Notar que hay que crear el archivo \"lavoztextodump.txt\" adentro del directorio \"datasets\"."
      ]
    },
    {
      "cell_type": "code",
      "metadata": {
        "id": "u_SpRykl-5yb"
      },
      "source": [
        "#################\n",
        "### Constants ###\n",
        "#################\n",
        "\n",
        "DATASETS_PATH = './datasets/'\n",
        "DATASET_1 = DATASETS_PATH + 'lavoztextodump.txt'\n",
        "MAX_DATASET_SIZE = 2500000\n",
        "WORD_AMOUNT_THRESHOLD = 25\n",
        "WORD_CONTEXT_THRESHOLD = 15\n",
        "MIN_SENTENCE_SIZE = 5\n",
        "THRESHOLD_VARIANCE = 0.001"
      ],
      "execution_count": 70,
      "outputs": []
    },
    {
      "cell_type": "markdown",
      "metadata": {
        "id": "c_mVUd4BAFvs"
      },
      "source": [
        "Ahora creo una funcion que me va a servir mas adelante, para poder moverla de archivo y olvidarme que existe."
      ]
    },
    {
      "cell_type": "code",
      "metadata": {
        "id": "Oklr2Ur9AbNn"
      },
      "source": [
        "def setup():\n",
        "  # Load the spacy model for Spanish language\n",
        "  # (from here https://spacy.io/models/es)\n",
        "  nlp = spacy.load(\"es_core_news_md\")\n",
        "\n",
        "  # Load the stopwords list\n",
        "  f = open(DATASET_1, \"r\")\n",
        "  dataset = f.read()[:MAX_DATASET_SIZE]\n",
        "  f.close()\n",
        "\n",
        "  # Load the dataset\n",
        "  nlp.max_length = MAX_DATASET_SIZE\n",
        "  return nlp(dataset)"
      ],
      "execution_count": 71,
      "outputs": []
    },
    {
      "cell_type": "markdown",
      "metadata": {
        "id": "XJzTfGN3AmhA"
      },
      "source": [
        "Ademas de \"setup\", creamos otra funcion que sirva para mas adelante."
      ]
    },
    {
      "cell_type": "code",
      "metadata": {
        "id": "u5YLM9iWDicF"
      },
      "source": [
        "def get_context(features, context, counts):\n",
        "  for c_word in context:\n",
        "    c_lemma = c_word.lemma\n",
        "    if c_word.is_alpha and (counts[c_lemma] > WORD_CONTEXT_THRESHOLD):\n",
        "      if str.isdigit(str(c_lemma)):\n",
        "        c_lemma = \"NUM__\"\n",
        "      features = features.get(c_lemma, 0) + 1"
      ],
      "execution_count": 72,
      "outputs": []
    },
    {
      "cell_type": "markdown",
      "metadata": {
        "id": "h_ArmBxQDk4m"
      },
      "source": [
        "Agregamos otra funcion que cree los clusters de palabras usando kmeans."
      ]
    },
    {
      "cell_type": "code",
      "metadata": {
        "id": "Y-Z7_mWZDqoC"
      },
      "source": [
        "def clustering(k, red_matrix):\n",
        "  clusterer = kmeans.KMeansClusterer(k, cosine_distance, avoid_empty_clusters=True)\n",
        "  clusters = clusterer.cluster(red_matrix, True)\n",
        "  return clusters"
      ],
      "execution_count": 73,
      "outputs": []
    },
    {
      "cell_type": "markdown",
      "metadata": {
        "id": "w03uISASOozj"
      },
      "source": [
        "Y finalmente, la ultima antes de comenzar. Esta funcion retorna todas las palabras que esten en un mismo cluster."
      ]
    },
    {
      "cell_type": "code",
      "metadata": {
        "id": "DVLFTDJzOnl1"
      },
      "source": [
        "def getWordsInCluster(cluster, search):\n",
        "  return [word for word in kwords if cluster[kwords[word]] == cluster[kwords[search]]]"
      ],
      "execution_count": 74,
      "outputs": []
    },
    {
      "cell_type": "markdown",
      "metadata": {
        "id": "C5kn-syYD1VC"
      },
      "source": [
        "Ahora si comenzamos con lo interesante.\n",
        "\n",
        "Primero llamamos al setup para creamos, y luego nos guardamos las palabras y sus lemmas en dos arreglos distintos."
      ]
    },
    {
      "cell_type": "code",
      "metadata": {
        "id": "tyWPLsRSD50a"
      },
      "source": [
        "doc = setup()\n",
        "dictionary = {}\n",
        "discarded_words = []\n",
        "\n",
        "# Save sentences, if they're long enough\n",
        "sents = [sent for sent in doc.sents if len(sent) > MIN_SENTENCE_SIZE]\n",
        "\n",
        "words = []\n",
        "words_lemma = []\n",
        "for sent in sents:\n",
        "  for word in sent:\n",
        "    if word.is_alpha and word.is_stop == False:\n",
        "      # Save the word if it's not a number\n",
        "      # or punctuation sign or a stopword\n",
        "      words.append(word)\n",
        "      words_lemma.append(word.lemma_)\n",
        "\n",
        "counts = Counter(words_lemma)"
      ],
      "execution_count": 75,
      "outputs": []
    },
    {
      "cell_type": "markdown",
      "metadata": {
        "id": "H6ml3mMsExj_"
      },
      "source": [
        "Con esto, ya podemos generar nuestro diccionario para comenzar a trabajar.\n",
        "\n",
        "Leer los comentarios para mas detalle de que hace cada linea :)"
      ]
    },
    {
      "cell_type": "code",
      "metadata": {
        "id": "h3uavt9jE32t"
      },
      "source": [
        "for i in range(len(words)):\n",
        "  features = {} # Dictionary of features\n",
        "  word = words[i] # Current word\n",
        "  word_lemma = words_lemma[i] # Current word lemma\n",
        "\n",
        "  if word.like_num or counts[word_lemma] < WORD_AMOUNT_THRESHOLD: # If the word is a number or it's not frequent enough\n",
        "    discarded_words.append((word.text, counts[word_lemma])) # Save discarded words to print them later\n",
        "    continue\n",
        "\n",
        "  if word_lemma in dictionary: # If the word is already in the dictionary\n",
        "    features = dictionary[word_lemma] # Get the features of the word\n",
        "\n",
        "  pos = \"POS__\" + str(word.pos_) # Part of speech\n",
        "  dep = \"DEP__\" + str(word.dep_) # Dependency\n",
        "\n",
        "  features[pos] = features.get(pos, 0) + 1 # Increase the amount of times the word appears in the same POS\n",
        "  features[dep] = features.get(dep, 0) + 1 # Increase the amount of times the word appears in the same dependency\n",
        "\n",
        "  if word.i != 0: # If the word is not the first word of the sentence\n",
        "    context_left = doc[word.i - 2: word.i] if word.i > 2 else doc[word.i - 1: word.i] # Get the context of the word\n",
        "    get_context(features, context_left, counts) # Get the features of the context\n",
        "\n",
        "  if word.i != len(doc) - 1: # If the word is not the last word of the sentence\n",
        "    context_right = doc[word.i + 1 : word.i + 3] if word.i < len(doc) - 2 else doc[word.i + 1 : word.i + 2] # Get the context of the word\n",
        "    get_context(features, context_right, counts) # Get the features of the context\n",
        "\n",
        "  dictionary[word_lemma] = features # Save the features of the word"
      ],
      "execution_count": 76,
      "outputs": []
    },
    {
      "cell_type": "markdown",
      "metadata": {
        "id": "lDJQDk7rE4By"
      },
      "source": [
        "Printeamos un poco de info interesante."
      ]
    },
    {
      "cell_type": "code",
      "metadata": {
        "colab": {
          "base_uri": "https://localhost:8080/"
        },
        "id": "C6pZHk9gE4Rz",
        "outputId": "4021cd5f-0f60-44f1-8347-ff3f0e6f333e"
      },
      "source": [
        "# Print top 10 common words\n",
        "print(\"Top 10 Most common words:\", counts.most_common(10))\n",
        "\n",
        "# Print top 10 discarded words\n",
        "if len(discarded_words) > 0:\n",
        "  discarded_words = list(set(discarded_words))\n",
        "  discarded_words.sort(key=lambda x: x[1], reverse=True)\n",
        "  print(\"Top 10 Discarded words:\", discarded_words[:10])"
      ],
      "execution_count": 77,
      "outputs": [
        {
          "output_type": "stream",
          "name": "stdout",
          "text": [
            "Top 10 Most common words: [('y', 9797), ('a', 8744), ('año', 1278), ('Córdoba', 998), ('o', 877), ('ciento', 795), ('país', 491), ('millón', 439), ('empresa', 411), ('mes', 404)]\n",
            "Top 10 Discarded words: [('millón', 439), ('Mil', 381), ('mil', 381), ('Nueve', 47), ('nueve', 47), ('rondaría', 24), ('probó', 24), ('parará', 24), ('promoviendo', 24), ('acumulando', 24)]\n"
          ]
        }
      ]
    },
    {
      "cell_type": "markdown",
      "metadata": {
        "id": "GI_d5bQIE4ZE"
      },
      "source": [
        "Ahora podemos generar las keywords para el diccionario."
      ]
    },
    {
      "cell_type": "code",
      "metadata": {
        "id": "bKKLboKrE4g7"
      },
      "source": [
        "kwords = {} # Dictionary of keywords\n",
        "all_features = [] # List of all features\n",
        "for i in range(len(dictionary)): # For each word in the dictionary\n",
        "  word = list(dictionary.keys())[i] # Current word\n",
        "  all_features.append(dictionary[word]) # Add the features of the word to the list of all features\n",
        "  kwords[word] = i # Add the word to the dictionary of keywords"
      ],
      "execution_count": 78,
      "outputs": []
    },
    {
      "cell_type": "markdown",
      "metadata": {
        "id": "Re5XcAKRE46P"
      },
      "source": [
        "Luego de crear el diccionario de keywords, ahora creamos la matriz de las features."
      ]
    },
    {
      "cell_type": "code",
      "metadata": {
        "id": "3DAWGJ7SE5Ip"
      },
      "source": [
        "v = DictVectorizer(sparse=False) # Create a vectorizer\n",
        "matrix = v.fit_transform(all_features) # Create the matrix\n",
        "matrix_normed = matrix / matrix.max(axis=0) # Normalize the matrix\n",
        "\n",
        "variances = np.square(matrix_normed).mean(axis=0) - np.square(matrix_normed.mean(axis=0)) # Calculate the variances\n",
        "\n",
        "red_matrix = np.delete(matrix_normed, np.where(variances < THRESHOLD_VARIANCE), axis=1) # Remove the columns with low variances\n",
        "\n",
        "tsne = sklearn.manifold.TSNE(n_components=2, random_state=0) # Create a t-SNE object\n",
        "matrix_dicc2d = tsne.fit_transform(red_matrix) # Create the 2D matrix"
      ],
      "execution_count": 79,
      "outputs": []
    },
    {
      "cell_type": "markdown",
      "metadata": {
        "id": "xW-tsRYAL-BG"
      },
      "source": [
        "Ya tenemos casi todo, ahora podriamos crear un dataframe para graficar las palabras."
      ]
    },
    {
      "cell_type": "code",
      "metadata": {
        "colab": {
          "base_uri": "https://localhost:8080/",
          "height": 714
        },
        "id": "uvNyhL1pMDfq",
        "outputId": "19d12ed1-d1a1-433c-fc1e-215c1193513b"
      },
      "source": [
        "dataframe = pd.DataFrame( # Create a dataframe with the coordinates of the words\n",
        "  [\n",
        "    (word, coords[0], coords[1])\n",
        "    for word, coords in [\n",
        "      (word, matrix_dicc2d[kwords[word]])\n",
        "      for word in kwords\n",
        "    ]\n",
        "  ],\n",
        "  columns=[\"Word\", \"X\", \"Y\"]\n",
        ")\n",
        "\n",
        "dataframe.plot.scatter(\"X\", \"Y\", s=10, figsize=(20, 12)) # Plot the words\n",
        "plt.show() # Show the plot"
      ],
      "execution_count": 80,
      "outputs": [
        {
          "output_type": "display_data",
          "data": {
            "image/png": "[encoded data removed]",
            "text/plain": [
              "<Figure size 1440x864 with 1 Axes>"
            ]
          },
          "metadata": {
            "needs_background": "light"
          }
        }
      ]
    },
    {
      "cell_type": "markdown",
      "metadata": {
        "id": "3GAgsIPTMNO0"
      },
      "source": [
        "Ahora podemos crear diferentes clusters para testear lo que hicimos :)\n",
        "\n",
        "Y jugar creando distintos clusters de palabras, de distinto tamaño y ver que obtenemos."
      ]
    },
    {
      "cell_type": "code",
      "metadata": {
        "id": "Ve2qMxAtMNZk"
      },
      "source": [
        "cluster_1 = clustering(25, red_matrix) # Create the clusters\n",
        "cluster_2 = clustering(35, red_matrix) # Create the clusters\n",
        "cluster_3 = clustering(45, red_matrix) # Create the clusters"
      ],
      "execution_count": 81,
      "outputs": []
    },
    {
      "cell_type": "code",
      "metadata": {
        "colab": {
          "base_uri": "https://localhost:8080/"
        },
        "id": "AFTtXOk8NF3Z",
        "outputId": "e19ac913-a789-4a3b-ecdb-d369485991ec"
      },
      "source": [
        "print(getWordsInCluster(cluster_1, \"ley\"))"
      ],
      "execution_count": 82,
      "outputs": [
        {
          "output_type": "stream",
          "name": "stdout",
          "text": [
            "['pareja', 'hija', 'movimiento', 'problema', 'muerte', 'proyecto', 'aspecto', 'plazo', 'experiencia', 'interés', 'recurso', 'conflicto', 'ingreso', 'medida', 'reclamo', 'mejora', 'ley', 'plan', 'instancia', 'debate', 'posibilidad', 'unidad', 'entrada', 'relación', 'discusión', 'canal', 'cuestión', 'participación', 'argumento', 'diálogo', 'posición', 'base', 'información', 'planta', 'respuesta', 'espacio', 'cantidad', 'presencia', 'sistema', 'declaración', 'visita', 'camino', 'aporte', 'número', 'derecho', 'reunión', 'consecuencia', 'intervención', 'expediente', 'sanción', 'instalación', 'actividad', 'corte', 'asamblea', 'estrategia', 'capacidad', 'sospecha', 'dificultad', 'decisión', 'prueba', 'cuerpo', 'idea', 'dinero', 'rol', 'valor', 'palabra', 'negociación', 'modelo', 'precio', 'esfuerzo', 'decreto', 'presentación', 'denuncia', 'pago', 'tasa', 'demanda', 'crecimiento', 'costo', 'línea', 'proceso', 'puesto', 'delito', 'salida', 'opinión', 'paso', 'conducta', 'expectativa', 'polémica', 'condición', 'presión', 'respaldo', 'postura', 'llegada', 'encuentro', 'fórmula', 'artículo', 'fondo', 'obligación', 'plata', 'detalle', 'aplicación', 'nombre', 'premio', 'programa', 'Plan', 'comunicado', 'enfermedad', 'imagen', 'vía', 'peso', 'evidencia', 'testigo', 'carga', 'daño', 'sorpresa', 'tragedia', 'contrato', 'herramienta', 'instrumento', 'límite', 'elemento', 'Constitución', 'existencia', 'urna', 'garantía', 'realización', 'avión', 'tarjeta', 'cliente', 'pedido', 'resolución', 'solución', 'pena', 'sentencia', 'banda', 'criterio', 'tratamiento', 'oportunidad', 'crítica', 'entrega', 'agresión', 'voz', 'preso', 'alianza']\n"
          ]
        }
      ]
    },
    {
      "cell_type": "code",
      "metadata": {
        "colab": {
          "base_uri": "https://localhost:8080/"
        },
        "id": "3_fskjR1UQJ3",
        "outputId": "d05063ef-877a-4822-c3b4-b6b33986a70a"
      },
      "source": [
        "print(getWordsInCluster(cluster_1, \"lunes\"))"
      ],
      "execution_count": 90,
      "outputs": [
        {
          "output_type": "stream",
          "name": "stdout",
          "text": [
            "['sentido', 'forma', 'sábado', 'miércoles', 'septiembre', 'martes', 'obstante', 'noche', 'momento', 'torno', 'plaza', 'diciembre', 'zona', 'manos', 'discurso', 'mano', 'viernes', 'octubre', 'lunes', 'minuto', 'fin', 'calle', 'jueves', 'período', 'semana', 'marzo', 'julio', 'sede', 'marco', 'mediados', 'contexto', 'verano', 'modos', 'humanos', 'vuelta', 'pese', 'domingo', 'superficie', 'hospital', 'mayo', 'madrugada', 'edición', 'vereda', 'mediodía', 'inicio', 'altura', 'hora', 'ámbito', 'ocasión', 'febrero', 'página', 'fines']\n"
          ]
        }
      ]
    },
    {
      "cell_type": "code",
      "metadata": {
        "colab": {
          "base_uri": "https://localhost:8080/"
        },
        "id": "A8OIKddMNmj0",
        "outputId": "1fd88053-de75-4671-b1bd-f77dd26f956a"
      },
      "source": [
        "print(getWordsInCluster(cluster_2, \"hermano\"))"
      ],
      "execution_count": 92,
      "outputs": [
        {
          "output_type": "stream",
          "name": "stdout",
          "text": [
            "['comunicación', 'Jerónimo', 'infraestructura', 'calidad', 'docente', 'error', 'responsable', 'amigo', 'Alta', 'inclusión', 'profesional', 'capacitación', 'abril', 'Francia', 'padre', 'Instituto', 'Marina', 'Garzón', 'República', 'desarrollo', 'respeto', 'compromiso', 'reflexión', 'Servicios', 'organización', 'universidad', 'intendentes', 'transparencia', 'pobreza', 'caja', 'distribución', 'ausencia', 'localidad', 'suma', 'sur', 'teléfono', 'escritor', 'profesor', 'candidata', 'luz', 'cierre', 'Europa', 'contenido', 'título', 'hermano', 'conocimiento', 'protección', 'herido', 'complejo', 'material', 'amenaza', 'robo', 'justicia', 'horario', 'Venezuela', 'Colombia', 'Perú', 'izquierda', 'fracaso', 'dirección', 'droga', 'Uruguay', 'concejal', 'maíz', 'Ciudad', 'Abbas']\n"
          ]
        }
      ]
    },
    {
      "cell_type": "code",
      "metadata": {
        "colab": {
          "base_uri": "https://localhost:8080/"
        },
        "id": "NfsSb8NcUloL",
        "outputId": "609a75d6-3326-49c0-af0e-0516e8ae639a"
      },
      "source": [
        "print(getWordsInCluster(cluster_2, \"impuesto\"))"
      ],
      "execution_count": 97,
      "outputs": [
        {
          "output_type": "stream",
          "name": "stdout",
          "text": [
            "['movimiento', 'recurso', 'instancia', 'educación', 'principio', 'hogar', 'empleado', 'defensa', 'seguridad', 'canal', 'nivel', 'acción', 'construcción', 'ciudadanía', 'necesidad', 'consenso', 'visión', 'interior', 'reconocimiento', 'gestión', 'inversión', 'acceso', 'energía', 'propiedad', 'comercio', 'grado', 'producción', 'consulta', 'presupuesto', 'marcha', 'rechazo', 'movilización', 'libro', 'formación', 'violencia', 'carne', 'viaje', 'destino', 'cabeza', 'caída', 'venta', 'alimento', 'cámara', 'servicio', 'control', 'opción', 'falta', 'impuesto', 'democracia', 'función', 'tecnología', 'política', 'generación', 'opinión', 'mensaje', 'partido', 'conducta', 'equipo', 'actitud', 'asignación', 'orden', 'apoyo', 'vivienda', 'régimen', 'arma', 'responsabilidad', 'expresión', 'decena', 'par', 'pie', 'auto', 'muerto', 'comunidad', 'asesinato', 'río', 'cultura', 'semáforo', 'esquina', 'tramo', 'transporte', 'atentado', 'asistencia', 'dictadura', 'bandera', 'creación', 'gas', 'ayuda', 'gasto', 'antecedente', 'promesa', 'suelo', 'contacto', 'agresión', 'preso', 'tarifa']\n"
          ]
        }
      ]
    },
    {
      "cell_type": "code",
      "metadata": {
        "colab": {
          "base_uri": "https://localhost:8080/"
        },
        "id": "yYqchZWIUGjU",
        "outputId": "0ccaae64-81e7-4f13-b6ae-1f428dbcd0a5"
      },
      "source": [
        "print(getWordsInCluster(cluster_3, \"colegio\"))"
      ],
      "execution_count": 85,
      "outputs": [
        {
          "output_type": "stream",
          "name": "stdout",
          "text": [
            "['colegio', 'reforma', 'ley', 'centro', 'agua', 'edificio', 'tierra', 'ruta', 'país', 'campo', 'población', 'radicalismo', 'mundo', 'crédito', 'parte', 'salario', 'línea', 'disputa', 'delito', 'voto', 'ganador', 'descuento', 'subsidio', 'fondo', 'cama', 'vehículo', 'prisión', 'éxito', 'rescate', 'confianza', 'origen', 'ciencia', 'guerra', 'contrato', 'urna', 'boleta', 'órgano', 'cartera', 'ejercicio', 'nación', 'comicio', 'vuelo', 'entrega', 'basura', 'medicina', 'concurso', 'trasplante', 'donante']\n"
          ]
        }
      ]
    },
    {
      "cell_type": "code",
      "metadata": {
        "colab": {
          "base_uri": "https://localhost:8080/"
        },
        "id": "D7oqx2Q3UL9Y",
        "outputId": "680d079e-924f-45a6-fcb1-6997b5627cfd"
      },
      "source": [
        "print(getWordsInCluster(cluster_3, \"Argentina\"))"
      ],
      "execution_count": 86,
      "outputs": [
        {
          "output_type": "stream",
          "name": "stdout",
          "text": [
            "['Dios', 'Ministerio', 'Consejo', 'Argentina', 'Justicia', 'Secretaría', 'Marcos', 'Legislatura', 'Comisión', 'Corte', 'Internet', 'Frente', 'PJ', 'CTA', 'Asociación', 'Epec', 'UCR', 'Curitiba', 'Plan', 'Policía', 'Hospital', 'Fiat', 'Senado', 'Tribunal', 'Washington', 'Tamse']\n"
          ]
        }
      ]
    }
  ]
}